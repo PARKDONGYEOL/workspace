{
 "cells": [
  {
   "cell_type": "code",
   "execution_count": 5,
   "id": "13350c7b",
   "metadata": {},
   "outputs": [],
   "source": [
    "#dictionary(딕셔너리)\n",
    "#여러 데이터를 저장할 수 있고 ,key value의 쌍으로 데이터가 저장된다.\n",
    "#자바 스크립트의 객체로 동일!"
   ]
  },
  {
   "cell_type": "code",
   "execution_count": 8,
   "id": "505100a2",
   "metadata": {},
   "outputs": [
    {
     "name": "stdout",
     "output_type": "stream",
     "text": [
      "{'stuNum': 3, 'name': '홈', 'age': 20}\n",
      "홈\n"
     ]
    }
   ],
   "source": [
    "#딕셔너리 데이서 생성\n",
    "dic1 = {} # 빈 딕셔너리 데이터 생성\n",
    "dic2 = {\n",
    "  'stuNum' : 3,\n",
    "  'name' : '홈',\n",
    "  'age' : 20\n",
    "}\n",
    "\n",
    "print(dic2)\n",
    "print(dic2['name'])\n"
   ]
  },
  {
   "cell_type": "code",
   "execution_count": 23,
   "id": "15928368",
   "metadata": {},
   "outputs": [
    {
     "name": "stdout",
     "output_type": "stream",
     "text": [
      "['운동', '독서', '등산']\n",
      "3\n",
      "등산\n",
      "홍아빠\n",
      "{'이름': '홍길동', '나이': 20, '취미': ['운동', '독서', '등산'], '가족': [{'관계': '아빠', '이름': '홍아빠'}, {'관계': '엄마', '이름': '홍엄마', '나이': 50}]}\n"
     ]
    }
   ],
   "source": [
    "myInfo = {\n",
    "  '이름' : '홍길동',\n",
    "  '나이' : 20,\n",
    "  '취미' : ['운동','독서','등산'],\n",
    "  '가족' : [\n",
    "    {\n",
    "      '관계' : '아빠',\n",
    "      '이름' : '홍아빠'\n",
    "    },\n",
    "    {\n",
    "      '관계' : '엄마',\n",
    "      '이름' : '홍엄마'\n",
    "    }\n",
    "  ]\n",
    "}\n",
    "\n",
    "print(myInfo['취미'])\n",
    "print(len(myInfo['취미']))\n",
    "print(myInfo['취미'][-1])\n",
    "print(myInfo['가족'][0]['이름'])\n",
    "myInfo['가족'][1]['나이'] = 50\n",
    "print(myInfo)\n"
   ]
  },
  {
   "cell_type": "code",
   "execution_count": null,
   "id": "24b8b84b",
   "metadata": {},
   "outputs": [],
   "source": []
  },
  {
   "cell_type": "code",
   "execution_count": null,
   "id": "6859efab",
   "metadata": {},
   "outputs": [],
   "source": []
  },
  {
   "cell_type": "code",
   "execution_count": null,
   "id": "4998808f",
   "metadata": {},
   "outputs": [],
   "source": []
  },
  {
   "cell_type": "code",
   "execution_count": null,
   "id": "d059ea60",
   "metadata": {},
   "outputs": [],
   "source": []
  },
  {
   "cell_type": "code",
   "execution_count": null,
   "id": "e7b27dfc",
   "metadata": {},
   "outputs": [],
   "source": []
  }
 ],
 "metadata": {
  "kernelspec": {
   "display_name": "Python 3",
   "language": "python",
   "name": "python3"
  },
  "language_info": {
   "codemirror_mode": {
    "name": "ipython",
    "version": 3
   },
   "file_extension": ".py",
   "mimetype": "text/x-python",
   "name": "python",
   "nbconvert_exporter": "python",
   "pygments_lexer": "ipython3",
   "version": "3.13.7"
  }
 },
 "nbformat": 4,
 "nbformat_minor": 5
}
