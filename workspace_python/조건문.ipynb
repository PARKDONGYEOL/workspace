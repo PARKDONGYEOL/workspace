{
 "cells": [
  {
   "cell_type": "code",
   "execution_count": 10,
   "id": "02438e0d",
   "metadata": {},
   "outputs": [
    {
     "name": "stdout",
     "output_type": "stream",
     "text": [
      "1\n",
      "5\n",
      "3\n"
     ]
    }
   ],
   "source": [
    "#조건에()와 중괄호도 없다\n",
    "#파이썬의 if문 실행 영역은 들여쓰기로 판단한다.\n",
    "num1 = 3\n",
    "if num1 > 1 : \n",
    "  print(1)\n",
    "  print(5)\n",
    " \n",
    "  print(num1)\n",
    "  "
   ]
  },
  {
   "cell_type": "code",
   "execution_count": 11,
   "id": "fbf3be61",
   "metadata": {},
   "outputs": [
    {
     "name": "stdout",
     "output_type": "stream",
     "text": [
      "1\n"
     ]
    }
   ],
   "source": [
    "num2 = 5\n",
    "\n",
    "if num2 > 1 :\n",
    "  print(1)\n",
    "elif num2 > 3 :\n",
    "  print(2)\n",
    "else :\n",
    "  print(3)\n"
   ]
  },
  {
   "cell_type": "code",
   "execution_count": null,
   "id": "eb6d3f8e",
   "metadata": {},
   "outputs": [
    {
     "name": "stdout",
     "output_type": "stream",
     "text": [
      "홀수\n"
     ]
    }
   ],
   "source": [
    "#키보드로 정수를 하나 입력받아\n",
    "#입력받은 수가 짝수면 '짝수'를 출력, 홀수는 '홀수'를 출력.\n",
    "#키보드 입력을 위해 input()을 사용함.\n",
    "#키보드로 입력받은 모든 데이터는 무조건 문자로 인식.\n",
    "#문자 -> 정수 변화 : int('5') -> 5\n",
    "# 일단적인 조건과 같은데 다른점은 그리고(and), dlrjsk(or)\n",
    "numA = int(input('정수를 하나 입력하세요 :'))\n",
    "\n",
    "if numA // 2 == 0 :\n",
    "  print('짝수')\n",
    "else : \n",
    "  print('홀수')"
   ]
  },
  {
   "cell_type": "code",
   "execution_count": null,
   "id": "63493b47",
   "metadata": {},
   "outputs": [],
   "source": []
  },
  {
   "cell_type": "code",
   "execution_count": null,
   "id": "9ccaa017",
   "metadata": {},
   "outputs": [],
   "source": []
  },
  {
   "cell_type": "code",
   "execution_count": null,
   "id": "0f3eae6e",
   "metadata": {},
   "outputs": [],
   "source": []
  }
 ],
 "metadata": {
  "kernelspec": {
   "display_name": "Python 3",
   "language": "python",
   "name": "python3"
  },
  "language_info": {
   "codemirror_mode": {
    "name": "ipython",
    "version": 3
   },
   "file_extension": ".py",
   "mimetype": "text/x-python",
   "name": "python",
   "nbconvert_exporter": "python",
   "pygments_lexer": "ipython3",
   "version": "3.13.7"
  }
 },
 "nbformat": 4,
 "nbformat_minor": 5
}
