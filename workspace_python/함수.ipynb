{
 "cells": [
  {
   "cell_type": "code",
   "execution_count": 35,
   "id": "cd07d3c6",
   "metadata": {},
   "outputs": [],
   "source": [
    "def sayHello():\n",
    "  print(1)\n",
    "  print(2)\n",
    "\n"
   ]
  },
  {
   "cell_type": "code",
   "execution_count": 36,
   "id": "56930e89",
   "metadata": {},
   "outputs": [
    {
     "name": "stdout",
     "output_type": "stream",
     "text": [
      "1\n",
      "2\n"
     ]
    }
   ],
   "source": [
    "sayHello()"
   ]
  },
  {
   "cell_type": "code",
   "execution_count": 37,
   "id": "ae85931f",
   "metadata": {},
   "outputs": [],
   "source": [
    "def getSum(a, b):\n",
    "  print(a+b)\n",
    "  return a + b"
   ]
  },
  {
   "cell_type": "code",
   "execution_count": 38,
   "id": "14b15ca2",
   "metadata": {},
   "outputs": [
    {
     "name": "stdout",
     "output_type": "stream",
     "text": [
      "30\n",
      "30\n"
     ]
    }
   ],
   "source": [
    "print(getSum(10, 20))\n"
   ]
  },
  {
   "cell_type": "code",
   "execution_count": 39,
   "id": "8831bf78",
   "metadata": {},
   "outputs": [],
   "source": [
    "#파이썬의 함수는 리턴을 여러개 가질 수 있다.\n",
    "def getNumber():\n",
    "  return 10, 20, 30\n"
   ]
  },
  {
   "cell_type": "code",
   "execution_count": 40,
   "id": "15c1f6d2",
   "metadata": {},
   "outputs": [
    {
     "name": "stdout",
     "output_type": "stream",
     "text": [
      "10 20 30\n",
      "(10, 20, 30)\n"
     ]
    }
   ],
   "source": [
    "n1, n2, n3 = getNumber()\n",
    "print(n1, n2, n3)\n",
    "nums = getNumber()\n",
    "print(nums)"
   ]
  },
  {
   "cell_type": "code",
   "execution_count": 41,
   "id": "ece50d5c",
   "metadata": {},
   "outputs": [],
   "source": [
    "#파이썬은 매개변수 데이터를 전달할때  매개변수명을 사용할 수 있다"
   ]
  },
  {
   "cell_type": "code",
   "execution_count": 42,
   "id": "84cfbf35",
   "metadata": {},
   "outputs": [],
   "source": [
    "def printInfo(name, age):\n",
    "  print(f'이름은 {name}, 나이는 {age}')"
   ]
  },
  {
   "cell_type": "code",
   "execution_count": 45,
   "id": "5e933ab7",
   "metadata": {},
   "outputs": [
    {
     "name": "stdout",
     "output_type": "stream",
     "text": [
      "이름은 kim, 나이는 20\n",
      "------이름은 park, 나이는 30\n"
     ]
    }
   ],
   "source": [
    "printInfo('kim', 20)\n",
    "print('------', end='')\n",
    "printInfo(age = 30, name = 'park')\n"
   ]
  },
  {
   "cell_type": "code",
   "execution_count": null,
   "id": "abc15a60",
   "metadata": {},
   "outputs": [],
   "source": []
  }
 ],
 "metadata": {
  "kernelspec": {
   "display_name": "Python 3",
   "language": "python",
   "name": "python3"
  },
  "language_info": {
   "codemirror_mode": {
    "name": "ipython",
    "version": 3
   },
   "file_extension": ".py",
   "mimetype": "text/x-python",
   "name": "python",
   "nbconvert_exporter": "python",
   "pygments_lexer": "ipython3",
   "version": "3.13.7"
  }
 },
 "nbformat": 4,
 "nbformat_minor": 5
}
