{
 "cells": [
  {
   "cell_type": "code",
   "execution_count": 1,
   "id": "6f518bf4",
   "metadata": {},
   "outputs": [],
   "source": [
    "list1 = [] #빈 리스트 생성\n",
    "list2 = [1, 2, '안녕', 5.5]\n",
    "list3 = [1, 2, [4, 5, 6,]]"
   ]
  },
  {
   "cell_type": "code",
   "execution_count": 2,
   "id": "fc4b1072",
   "metadata": {},
   "outputs": [
    {
     "name": "stdout",
     "output_type": "stream",
     "text": [
      "안녕\n",
      "[1, 2, [4, 5, 6]]\n"
     ]
    }
   ],
   "source": [
    "print(list2[2])\n",
    "print(list3)\n"
   ]
  },
  {
   "cell_type": "code",
   "execution_count": null,
   "id": "3a94583d",
   "metadata": {},
   "outputs": [],
   "source": [
    "#리스트에 데이터 추가\n",
    "#1. append()함수 사용: 리스트에 마지막 요서에 데이터가 추가\n",
    "#2. insert(삽입할 index, 데이터): 원하는 위치에 데이터를 추가"
   ]
  },
  {
   "cell_type": "code",
   "execution_count": 8,
   "id": "3afad78e",
   "metadata": {},
   "outputs": [
    {
     "name": "stdout",
     "output_type": "stream",
     "text": [
      "[1, 2, [4, 5, 6]]\n"
     ]
    }
   ],
   "source": [
    "list1 = []\n",
    "list1.append(1)\n",
    "list1.append(2)\n",
    "list1.append([4, 5, 6,])\n",
    "print(list1)"
   ]
  },
  {
   "cell_type": "code",
   "execution_count": null,
   "id": "b286d2d2",
   "metadata": {},
   "outputs": [
    {
     "name": "stdout",
     "output_type": "stream",
     "text": [
      "[1, 2, 3, 3, [4, 5, 6]]\n"
     ]
    }
   ],
   "source": [
    "list1.insert(2, 3)\n",
    "print(list1)"
   ]
  },
  {
   "cell_type": "code",
   "execution_count": null,
   "id": "00989181",
   "metadata": {},
   "outputs": [],
   "source": [
    "#리스트에 데이터 삭제\n"
   ]
  },
  {
   "cell_type": "code",
   "execution_count": null,
   "id": "396f1396",
   "metadata": {},
   "outputs": [
    {
     "name": "stdout",
     "output_type": "stream",
     "text": [
      "[1, 2, 4, 5]\n"
     ]
    }
   ],
   "source": [
    "del list1 #변수를 !!!자체를 삭제!!!!\n",
    "list1 = [1, 2, 3, 4, 5] #변수를 새로 만들어서 리스트에 넣음\n",
    "del list1[2] #list의 2번 요소의 데이터를 삭제\n",
    "print(list1)"
   ]
  },
  {
   "cell_type": "code",
   "execution_count": null,
   "id": "bf4dd05d",
   "metadata": {},
   "outputs": [],
   "source": [
    "#리스트에 데이터 수정\n"
   ]
  },
  {
   "cell_type": "code",
   "execution_count": 15,
   "id": "c651a25f",
   "metadata": {},
   "outputs": [
    {
     "name": "stdout",
     "output_type": "stream",
     "text": [
      "[1, 0, 3]\n"
     ]
    }
   ],
   "source": [
    "list1 = [1, 2, 3]\n",
    "list1[1] = 0\n",
    "print(list1)"
   ]
  },
  {
   "cell_type": "code",
   "execution_count": 1,
   "id": "e7040cd0",
   "metadata": {},
   "outputs": [
    {
     "name": "stdout",
     "output_type": "stream",
     "text": [
      "[2, 3, 4]\n",
      "[1, 2, 3]\n",
      "[3, 4, 5]\n",
      "[1, 2, 3, 4, 5]\n",
      "[3, 4]\n"
     ]
    }
   ],
   "source": [
    "#슬라이싱 :  리스트에서 특정 데이터만 추출하는 문법\n",
    "list2 = [1, 2, 3, 4, 5]\n",
    "print(list2[1:4]) # 자바에서 for (i = 1; i <= 4; i ++) \n",
    "print(list2[:3]) # 자바에서 for (i = 0; i <= 3; i ++) \n",
    "print(list2[2:])# 자바에서 for (i = 2; i < list.size(); i ++) \n",
    "print(list2[:])# 자바에서 for (i = 0; i < list.size(); i ++) \n",
    "print(list2[2:-1])# 자바에서 for (i = 2; i < list.size() - 1; i ++) "
   ]
  },
  {
   "cell_type": "code",
   "execution_count": null,
   "id": "f2ca4900",
   "metadata": {},
   "outputs": [],
   "source": []
  },
  {
   "cell_type": "code",
   "execution_count": null,
   "id": "f8edf828",
   "metadata": {},
   "outputs": [],
   "source": []
  },
  {
   "cell_type": "code",
   "execution_count": null,
   "id": "f9b8518d",
   "metadata": {},
   "outputs": [],
   "source": []
  }
 ],
 "metadata": {
  "kernelspec": {
   "display_name": "Python 3",
   "language": "python",
   "name": "python3"
  },
  "language_info": {
   "codemirror_mode": {
    "name": "ipython",
    "version": 3
   },
   "file_extension": ".py",
   "mimetype": "text/x-python",
   "name": "python",
   "nbconvert_exporter": "python",
   "pygments_lexer": "ipython3",
   "version": "3.13.7"
  }
 },
 "nbformat": 4,
 "nbformat_minor": 5
}
