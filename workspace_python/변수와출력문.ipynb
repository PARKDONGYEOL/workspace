{
 "cells": [
  {
   "cell_type": "markdown",
   "id": "200e1002",
   "metadata": {},
   "source": [
    "### 출력문\n",
    "파이썬에서 출력문은 print() 명령어를 사용합니다."
   ]
  },
  {
   "cell_type": "markdown",
   "id": "ba7cb93f",
   "metadata": {},
   "source": []
  },
  {
   "cell_type": "code",
   "execution_count": null,
   "id": "e659bc21",
   "metadata": {},
   "outputs": [],
   "source": [
    "# 이건은 주석입니다."
   ]
  },
  {
   "cell_type": "code",
   "execution_count": 2,
   "id": "505beb43",
   "metadata": {},
   "outputs": [
    {
     "name": "stdout",
     "output_type": "stream",
     "text": [
      "10\n",
      "문자는 홀따옴표\n",
      "몬자는 쌍따옴표\n"
     ]
    }
   ],
   "source": [
    "# 파이썬 명령어는 마지막에 세미콜론 붙이지 않음!\n",
    "print(10)\n",
    "print('문자는 홀따옴표')\n",
    "print(\"몬자는 쌍따옴표\")"
   ]
  },
  {
   "cell_type": "code",
   "execution_count": null,
   "id": "7fbc8f87",
   "metadata": {},
   "outputs": [
    {
     "name": "stdout",
     "output_type": "stream",
     "text": [
      "15\n",
      "2.5\n",
      "2\n",
      "2\n",
      "문자의 합치기 기능\n"
     ]
    },
    {
     "ename": "TypeError",
     "evalue": "can only concatenate str (not \"int\") to str",
     "output_type": "error",
     "traceback": [
      "\u001b[31m---------------------------------------------------------------------------\u001b[39m",
      "\u001b[31mTypeError\u001b[39m                                 Traceback (most recent call last)",
      "\u001b[36mCell\u001b[39m\u001b[36m \u001b[39m\u001b[32mIn[9]\u001b[39m\u001b[32m, line 7\u001b[39m\n\u001b[32m      5\u001b[39m \u001b[38;5;28mprint\u001b[39m(\u001b[32m10\u001b[39m%\u001b[32m4\u001b[39m) \u001b[38;5;66;03m#나눗셈의 나머지\u001b[39;00m\n\u001b[32m      6\u001b[39m \u001b[38;5;28mprint\u001b[39m(\u001b[33m'\u001b[39m\u001b[33m문자의\u001b[39m\u001b[33m'\u001b[39m + \u001b[33m\"\u001b[39m\u001b[33m 합치기 기능\u001b[39m\u001b[33m\"\u001b[39m)\n\u001b[32m----> \u001b[39m\u001b[32m7\u001b[39m \u001b[38;5;28mprint\u001b[39m(\u001b[33;43m'\u001b[39;49m\u001b[33;43m5\u001b[39;49m\u001b[33;43m'\u001b[39;49m\u001b[43m \u001b[49m\u001b[43m+\u001b[49m\u001b[43m \u001b[49m\u001b[32;43m5\u001b[39;49m) \u001b[38;5;66;03m#오류 문자와 숫자가 합치지지 않음\u001b[39;00m\n",
      "\u001b[31mTypeError\u001b[39m: can only concatenate str (not \"int\") to str"
     ]
    }
   ],
   "source": [
    "# 연산결과의 출력\n",
    "print(10+5)\n",
    "print(10/4) #결과가 실수이면 실수 나옴\n",
    "print(10//4) # 나눗셈의 목\n",
    "print(10%4) #나눗셈의 나머지\n",
    "print('문자의' + \" 합치기 기능\")\n",
    "#print('5' + 5) #오류 문자와 숫자가 합치지지 않음\n",
    "#print(\"문자\" + 10) #오류"
   ]
  },
  {
   "cell_type": "code",
   "execution_count": null,
   "id": "f925fc21",
   "metadata": {},
   "outputs": [
    {
     "name": "stdout",
     "output_type": "stream",
     "text": [
      "10 hello 10.5\n",
      "Hi\n",
      "HiHi."
     ]
    }
   ],
   "source": [
    "#print()활용\n",
    "print(10, 'hello', 10.5)\n",
    "\n",
    "#print() gkatnsms 'end' 매개변수로 출력후 실행 코드를 작성할 수 있음\n",
    "print('Hi', end='\\n') #한줄개행 기본\n",
    "print('Hi', end='') #한줄개행 안됨 \n",
    "print('Hi', end='.') #한줄개행후 '.' 출력"
   ]
  },
  {
   "cell_type": "markdown",
   "id": "a71c590a",
   "metadata": {},
   "source": [
    "###변수\n",
    "python은 javascript와 마찬가지로 내부적으로만 자료형이 존재한다."
   ]
  },
  {
   "cell_type": "code",
   "execution_count": 16,
   "id": "0d12fb79",
   "metadata": {},
   "outputs": [
    {
     "name": "stdout",
     "output_type": "stream",
     "text": [
      "이름은 홍길동 이고, 나이는 20 살입니다\n",
      "이름은 홍길동이고, 나이는 20살 입니다\n"
     ]
    }
   ],
   "source": [
    "myName = '홍길동'\n",
    "myAge = 20\n",
    "\n",
    "print('이름은', myName, '이고, 나이는',myAge, '살입니다')\n",
    "print(f'이름은 {myName}이고, 나이는 {myAge}살 입니다')"
   ]
  },
  {
   "cell_type": "code",
   "execution_count": 17,
   "id": "ef578de1",
   "metadata": {},
   "outputs": [
    {
     "name": "stdout",
     "output_type": "stream",
     "text": [
      "10\n",
      "홍길동\n"
     ]
    }
   ],
   "source": [
    "score = input('정수를 입력하세요:')\n",
    "print(score)\n",
    "name2 = input('이름을 입력하세:')\n",
    "print(name2)"
   ]
  },
  {
   "cell_type": "markdown",
   "id": "cb0c15ca",
   "metadata": {},
   "source": []
  }
 ],
 "metadata": {
  "kernelspec": {
   "display_name": "Python 3",
   "language": "python",
   "name": "python3"
  },
  "language_info": {
   "codemirror_mode": {
    "name": "ipython",
    "version": 3
   },
   "file_extension": ".py",
   "mimetype": "text/x-python",
   "name": "python",
   "nbconvert_exporter": "python",
   "pygments_lexer": "ipython3",
   "version": "3.13.7"
  }
 },
 "nbformat": 4,
 "nbformat_minor": 5
}
